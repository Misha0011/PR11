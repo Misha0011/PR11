{
 "cells": [
  {
   "cell_type": "code",
   "execution_count": 2,
   "id": "0e313e54-e53e-4eea-8c79-efccc1d17a74",
   "metadata": {},
   "outputs": [
    {
     "name": "stdout",
     "output_type": "stream",
     "text": [
      "Trapezoidal method: 0.213\n",
      "Check for the trapezoidal method = 0.21304\n"
     ]
    }
   ],
   "source": [
    "from scipy import integrate \n",
    "import numpy as np\n",
    "\n",
    "# Define the function to be integrated\n",
    "def f(x):\n",
    "    return 1/np.sqrt(pow(x,2)+2.3)\n",
    "\n",
    "# Define the integration limits and initial number of subdivisions\n",
    "a = 0.32\n",
    "b = 0.66\n",
    "n = 10\n",
    "\n",
    "# Compute the integral using the trapezoidal rule\n",
    "def trapezoidal_rule(f, a, b, n):\n",
    "    h = (b - a) / n\n",
    "    x = a\n",
    "    integral_sum = f(a) + f(b)  # Add the function values at the beginning and end\n",
    "    for i in range(1, n):\n",
    "        x += h\n",
    "        integral_sum += 2 * f(x)\n",
    "    integral = h / 2 * integral_sum\n",
    "\n",
    "    return integral\n",
    "\n",
    "# Compute the integral using the trapezoidal rule with a tolerance of 0.001\n",
    "# Check the accuracy using the Runge's rule\n",
    "integral1 = trapezoidal_rule(f, a, b, n)\n",
    "n *= 2\n",
    "integral2 = trapezoidal_rule(f, a, b, n)\n",
    "while abs(integral2 - integral1) / 3 > 0.001:\n",
    "    integral1 = integral2\n",
    "    n *= 2\n",
    "    integral2 = trapezoidal_rule(f, a, b, n)\n",
    "\n",
    "# Output the result\n",
    "print(\"Trapezoidal method:\", round(integral2, 3))\n",
    "\n",
    "# Check using integrate.quad\n",
    "v, err = integrate.quad(f, a, b)\n",
    "print(\"Check for the trapezoidal method =\", round(v, 5))\n"
   ]
  },
  {
   "cell_type": "code",
   "execution_count": 4,
   "id": "08719c5c-f7ef-4a0f-a68e-b18484af5236",
   "metadata": {},
   "outputs": [
    {
     "name": "stdout",
     "output_type": "stream",
     "text": [
      "Right rectangle: 1.01918\n",
      "Average rectangle: 0.91277\n",
      "Check for the rectangle method = 0.91327\n"
     ]
    }
   ],
   "source": [
    "from scipy import integrate \n",
    "from math import log\n",
    "\n",
    "eps = 0.001\n",
    "a = 1.6\n",
    "b = 3.2\n",
    "\n",
    "def f1(x): \n",
    "    return x/2 * (log(pow(x,2)/2, 10))  # Corrected the function here\n",
    "\n",
    "def left_rec(f1, a, b, n): \n",
    "    h = (b - a) / n \n",
    "    integral_sum = 0 \n",
    "    for i in range(0, n): \n",
    "        integral_sum += f1(a + i * h) \n",
    "    return integral_sum * h \n",
    "\n",
    "v, err = integrate.quad(f1, a, b)  # Verification\n",
    "\n",
    "# Checking accuracy using the Runge's rule:\n",
    "if abs(left_rec(f1, a, b, 2 * 8) - left_rec(f1, a, b, 8)) / 3. <= eps:\n",
    "    print(\"Left rectangle:\", round(left_rec(f1, a, b, 8), 5)) \n",
    "\n",
    "def right_rec(f1, a, b, n): \n",
    "    h = (b - a) / n \n",
    "    integral_sum = 0 \n",
    "    for i in range(1, n + 1): \n",
    "        integral_sum += f1(a + i * h) \n",
    "    return integral_sum * h \n",
    "\n",
    "print(\"Right rectangle:\", round(right_rec(f1, a, b, 8), 5)) \n",
    "\n",
    "def aver_rec(f1, a, b, n): \n",
    "    h = (b - a) / n \n",
    "    integral_sum = 0 \n",
    "    for i in range(0, n): \n",
    "        integral_sum += f1(a + i * h + h / 2)  # Added h / 2\n",
    "    return integral_sum * h \n",
    "\n",
    "print(\"Average rectangle:\", round(aver_rec(f1, a, b, 8), 5)) \n",
    "\n",
    "print(\"Check for the rectangle method =\", round(v, 5))\n"
   ]
  },
  {
   "cell_type": "code",
   "execution_count": 6,
   "id": "42ec254d-66d9-450e-a2b4-43882cb8e959",
   "metadata": {},
   "outputs": [
    {
     "name": "stdout",
     "output_type": "stream",
     "text": [
      "Simpson method: 0.413\n",
      "Check for the Simpson method = 0.413\n"
     ]
    }
   ],
   "source": [
    "from scipy import integrate \n",
    "import numpy as np\n",
    "\n",
    "# Define the function to be integrated\n",
    "def f(x):\n",
    "    return 1 / np.sqrt(2 * pow(x, 2) + 1)\n",
    "\n",
    "# Define integration limits and initial number of subdivisions\n",
    "a = 0.8\n",
    "b = 1.6\n",
    "n = 8\n",
    "\n",
    "# Numerical integration using Simpson's rule\n",
    "def simpson_rule(f, a, b, n):\n",
    "    h = (b - a) / n \n",
    "    integral = f(a) + f(b) \n",
    "    for i in range(1, n): \n",
    "        k = a + i * h \n",
    "        if i % 2 == 0: \n",
    "            integral += 2 * f(k) \n",
    "        else: \n",
    "            integral += 4 * f(k) \n",
    "    integral *= h / 3 \n",
    "    return integral \n",
    "\n",
    "# Compute the integral using Simpson's rule with a tolerance of 0.001\n",
    "integral1 = simpson_rule(f, a, b, n)\n",
    "n *= 2\n",
    "integral2 = simpson_rule(f, a, b, n)\n",
    "while abs(integral2 - integral1) > 0.001:\n",
    "    integral1 = integral2\n",
    "    n *= 2\n",
    "    integral2 = simpson_rule(f, a, b, n)\n",
    "\n",
    "# Output the result\n",
    "print(\"Simpson method:\", round(integral2, 3))\n",
    "\n",
    "# Check using integrate.quad\n",
    "v, err = integrate.quad(f, a, b)\n",
    "print(\"Check for the Simpson method =\", round(v, 3))\n"
   ]
  },
  {
   "cell_type": "code",
   "execution_count": null,
   "id": "fe94be24-b335-4507-9e59-05990ced3a31",
   "metadata": {},
   "outputs": [],
   "source": []
  }
 ],
 "metadata": {
  "kernelspec": {
   "display_name": "Python 3 (ipykernel)",
   "language": "python",
   "name": "python3"
  },
  "language_info": {
   "codemirror_mode": {
    "name": "ipython",
    "version": 3
   },
   "file_extension": ".py",
   "mimetype": "text/x-python",
   "name": "python",
   "nbconvert_exporter": "python",
   "pygments_lexer": "ipython3",
   "version": "3.11.5"
  }
 },
 "nbformat": 4,
 "nbformat_minor": 5
}
